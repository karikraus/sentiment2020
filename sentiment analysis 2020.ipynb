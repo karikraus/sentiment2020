{
 "cells": [
  {
   "cell_type": "markdown",
   "metadata": {},
   "source": [
    "GETTING STARTED WITH TEXTBLOB FOR SENTIMENT ANALYSIS\n",
    "\n",
    "LINK TO DOWNLOADABLE VERSION OF THIS NOTEBOOK ON GITHUB: https://github.com/karikraus/sentiment2020/blob/main/sentiment%20analysis%202020.ipynb  \n",
    "To download this github notebook and upload it to your owm Jupyter installation on your machine, click on \"Raw\" on the righthand side of the github page. Then from your browser menu choose \"Select All\" and then \"Copy\" (depending on what browser you're using, these menu options might appear under \"Edit\" or somewhere else). Once you've copied the contents in the \"Raw\" tab, paste them into a text editor and save the file as a .ipynb file (you can name the file anything you want, but be sure to use that extension). From there you can open Jupyter notebook on your machine and click \"Upload\" on the top right side from the Jupyter main page. Navigate to your Download directory or wherever the new .ipynb file is stored on your hard drive and select it for upload so that it resides in the same directory as your other Jupyter notebooks. You can then click on the new notebook to open it and begin to run the code and play with it. (Note: you may have to refresh your main Jupyter page once you've uploaded in order to see the new notebook in your list of .ipynb files).\n",
    "\n",
    "You can also download the texts that accompany this notebook (\"sea rose\" poem and \"The Yellow Wallpaper\")at https://github.com/karikraus/sentiment2020 (click on the appropriate links; you'll want to save these texts in UTF-8 format. Further instructions in the Google Doc resources I've prepared for you at https://docs.google.com/document/d/1yMtj4LXncxr981E02nGPIxoa5ZO8oATJivE5C0dcIrg/edit?usp=sharing You can also grab two of the texts from Project Gutenberg (more details below).\n",
    "\n",
    "\n",
    "LINK TO INTERACTIVE VERSION MOUNTED ON THE WEB: https://mybinder.org/v2/gh/karikraus/sentiment2020/HEAD\n",
    "\n",
    "Credit notes: the \"Sea Rose\" poem is one Allison Parrish frequently uses in her tutorials. See her Github page at https://github.com/aparrish/rwet/blob/master/sea_rose.txt. The poem is by H.D. and is also available on the Poetry Foundation website: https://www.poetryfoundation.org/poems/48188/sea-rose\n",
    "\n",
    "Most of the information in this first cell that you're currently reading is for those of you trying to set up Anaconda/Jupyter on your own machines, but for those working with my web-mounted notebook, some of this is relevant to you too (the part about uploading your own texts to work with). \n",
    "\n",
    "The first thing you'll need to do is install several Python packages: TextBlob, Pandas (optional), Matplotlib(optional), and NLTK(optional) (You only need to install the optional packages if you want to try producing a graph or experiment with other, more sophisticated sentiment analyzers). This could end up being nearly effortless, taking you all of two minutes, or a deep descent into the abyss. Fortunately you can use one of my interactive Jupyter notebooks online if you encounter technical problems. Ideally, however, you want your own installation on your own machine. Here are instructions:\n",
    "\n",
    "EASIEST METHOD: \n",
    "Textblob: in a new JUPYTER notebook, type and execute the following code:  \n",
    "import sys  \n",
    "!{sys.executable} -m pip install -U textblob  \n",
    "!{sys.executable} python -m textblob.download_corpora  \n",
    "\n",
    "If that doesn't work, try:  \n",
    "import sys  \n",
    "!{sys.executable} -m pip install -U textblob  \n",
    "python -m textblob.download_corpora  \n",
    "\n",
    "If neither of those work, you'll want to try installing from your terminal or console window:\n",
    "--For both Mac and Windows operating systems, you'll want to open a console or terminal window. The relevant application on Mac machines is \"Terminal.\"\n",
    "--Point your browser to the TextBlob documentation page and follow the instructions for your operating system:\n",
    "https://textblob.readthedocs.io/en/dev/install.html\n",
    "--Note that when typing in the relevant commands, you should omit the \"$\" sign\n",
    "\n",
    "\n",
    "Pandas: in the same JUPYTER NOTEBOOK, type and execute in a single cell:\n",
    "import sys\n",
    "!{sys.executable} -m pip install pandas\n",
    "\n",
    "If that doesn't work, follow instructions above for installing from your Terminal or Console window using this code:\n",
    "import sys\n",
    "-m pip install pandas\n",
    "\n",
    "Matplotlib: In the same JUPYTER NOTEBOOK, type and execute in a single cell:\n",
    "import sys\n",
    "!{sys.executable} pip install matplotlib\n",
    "\n",
    "If that doesn't work, open terminal window and type, then carriage return:\n",
    "pip install matplotlib\n",
    "\n",
    "OR\n",
    "conda install matplotlib\n",
    "\n",
    "NLTK: from same JUPYTER NOTEBOOK, type and execute the following in a new cell:\n",
    "import sys\n",
    "!{sys.executable} pip install --user -U nltk\n",
    "\n",
    "In a new cell, type and execute:\n",
    "import sys\n",
    "!{sys.executable} pip install --user -U numpy\n",
    "\n",
    "If those don't work, try installing from your Console or Terminal window:\n",
    "\n",
    "pip install --user -U nltk\n",
    "pip install --user -U numpy\n",
    "\n",
    "For more instructions on installing NLTK, point your browser here: \n",
    "https://www.nltk.org/install.html\n",
    "\n",
    "If you want to run the code on The Yellow Wallpaper or Wuthering Heights: Download (or upload) a copy of Emily Bronte's Wuthering Heights and Charlotte Perkins Gilman's \"The Yellow Wallpaper\" to the proper directory on your computer. To obtain a copy of these novels, point your browser to Project Gutenberg and select the \"plain text UTF 8\" format: https://www.gutenberg.org/ebooks/768 and https://www.gutenberg.org/ebooks/1952 For instructions about how to save the novel in your text editor and upload it to Jupyter Notebook, head over to the Google Doc I created with instructions: https://docs.google.com/document/d/1RKNT6nNF3zXobwF7-YiSsHZ2L4A1lgPAhivL6R5RLHs/edit?usp=sharing\n",
    "\n",
    "Once you've installed the TextBlob packages and downloaded (or uploaded) the novels to the proper directory, you're ready to open a new Jupyter notebook and start playing. The rest of the code in this notebook should now work.If you're working directly from my online interactive notebook, you don't need to worry about any of the installations (either TextBlob Matplotlib, Pandas, NLTK, or the two novels). You can just start executing and typing code. If you get an automated message or prompt from the system to type in one or two additional lines of code for TextBlob to work in my online notebook, simply enter the relevant commands. \n",
    "\n",
    "Note: you can also upload your own texts to experiment with in my online Notebook if you're not working with your own installation. You'll want to use the \"Upload\" button. Follow the instructions at the Google Docs linked to above. Basically, the \"Upload\" approach works whether you're working with my web-mounted notebook or with a Jupyter notebook set up locally on your own machine.\n",
    "\n",
    "General resource: for information on installing python libraries directly from a Jupyter Notebook rather than a console window, see [here](https://jakevdp.github.io/blog/2017/12/05/installing-python-packages-from-jupyter/)"
   ]
  },
  {
   "cell_type": "markdown",
   "metadata": {},
   "source": [
    "FYI: omit the first three lines of code in the cell immediately beneath this one if you are working with your own installation of TextBlob in your own Jupyter notebook. Instead, start with the cell that begins \"from textblob . . .\" If, however, you're using my online interactive notebook to execute code, include the code in the first cell below). "
   ]
  },
  {
   "cell_type": "code",
   "execution_count": null,
   "metadata": {},
   "outputs": [],
   "source": [
    "import nltk\n",
    "nltk.download('punkt')\n",
    "nltk.download('movie_reviews')"
   ]
  },
  {
   "cell_type": "markdown",
   "metadata": {},
   "source": [
    "FYI: sometimes a particular cell doesn't generate any output once you execute it (it's just preparatory code for further code in subsequent cells); other times, it may take a while--12 seconds or so--for the output to appear. The square brackets next to each cell serve as an indicator as to whether the code in that cell is finished processing or still active after you've executed it. If it's still processing, you'll see an asterisk appear between the brackets. That asterisk disappears once Jupyter notebook has generated output or otherwise finished."
   ]
  },
  {
   "cell_type": "code",
   "execution_count": null,
   "metadata": {},
   "outputs": [],
   "source": [
    "from textblob import TextBlob"
   ]
  },
  {
   "cell_type": "code",
   "execution_count": null,
   "metadata": {},
   "outputs": [],
   "source": [
    "TextBlob('A house of deadly chambers').sentiment"
   ]
  },
  {
   "cell_type": "code",
   "execution_count": null,
   "metadata": {},
   "outputs": [],
   "source": [
    "TextBlob('inhabited by evil spirits').sentiment"
   ]
  },
  {
   "cell_type": "code",
   "execution_count": null,
   "metadata": {},
   "outputs": [],
   "source": [
    "TextBlob('lit by gruesome torches').sentiment"
   ]
  },
  {
   "cell_type": "code",
   "execution_count": null,
   "metadata": {},
   "outputs": [],
   "source": [
    "TextBlob('This movie was a great experience, and not disappointing.').sentiment"
   ]
  },
  {
   "cell_type": "code",
   "execution_count": null,
   "metadata": {},
   "outputs": [],
   "source": [
    "TextBlob('The Biltong was dying. Huge and old, it squatted in the center of the settlement park, a lump of ancient yellow protoplasm, thick, gummy, opaque. Its pseudopodia were dried up, shriveled to blackened snakes that lay inert on the brown grass.').sentiment"
   ]
  },
  {
   "cell_type": "code",
   "execution_count": null,
   "metadata": {},
   "outputs": [],
   "source": [
    "TextBlob(\"A pox on the pandemic.\").sentiment"
   ]
  },
  {
   "cell_type": "code",
   "execution_count": null,
   "metadata": {},
   "outputs": [],
   "source": [
    "TextBlob(\"Raindrops on roses and whiskers on kittens: these are a few of my favorite things.\").sentiment"
   ]
  },
  {
   "cell_type": "markdown",
   "metadata": {},
   "source": [
    "The TextBlob documentation provides the following information about the sentiment scoring: \"The polarity score is a float within the range [-1.0, 1.0]. The subjectivity is a float within the range [0.0, 1.0] where 0.0 is very objective and 1.0 is very subjective.\" In terms of the polarity value that TextBlob returns for a given sentence, -1 is the most negative score and 1 is the most positive. Between them is a spectrum of possibilities, e.g., -.7 or .4 or 0 and so forth). \n",
    "\n",
    "It can be surprisingly hard to compose sentences that garner an extremely negative or extremely positive score. Try writing the happiest, sunniest, bubbliest, most cheerful and exuberant sentence you can to test. Then try writing the saddest, most heartbreaking, miserable, and wretched sentence you can (rant against COVID-19 if that helps; or if reality is too painful to address right now, transcribe a sentence from a favorite tearjerker of a novel or poem). Finally, try a Goldlilocks sentence that is right in the middle. See if through this method you can begin to get a feel for what the range of polarity scores mean. Do a similar exercise for testing subjectivity. You might try writing sentences with unicorns and mythological creatures versus empirical fact-based sentences. Again, the goal is to begin to internalize what the different percentages mean."
   ]
  },
  {
   "cell_type": "code",
   "execution_count": null,
   "metadata": {},
   "outputs": [],
   "source": [
    "yellow_wallpaper = TextBlob(open(\"yellow_wallpaper.txt\").read())"
   ]
  },
  {
   "cell_type": "code",
   "execution_count": null,
   "metadata": {},
   "outputs": [],
   "source": [
    "for item in yellow_wallpaper.sentences:\n",
    "    if item.sentiment.polarity == -1:\n",
    "        print(item)"
   ]
  },
  {
   "cell_type": "code",
   "execution_count": null,
   "metadata": {},
   "outputs": [],
   "source": [
    "for item in yellow_wallpaper.sentences:\n",
    "    if item.sentiment.polarity == 1:\n",
    "        print(item)"
   ]
  },
  {
   "cell_type": "markdown",
   "metadata": {},
   "source": [
    "THINGS TO TRY: the two polarity scores in the blocks of code, above, lie at the extremes of -1 most negative and +1 most positive. Try changing the number in the blocks to a float value between those scores. For instance, you might change \"-1\" to \"-.7\" or \"-.3\" to see what happens. Or \"1\" to \".7\" or \".2\" to see what you generate."
   ]
  },
  {
   "cell_type": "code",
   "execution_count": null,
   "metadata": {},
   "outputs": [],
   "source": [
    "for item in yellow_wallpaper.sentences:\n",
    "    print(item.sentiment.polarity)\n",
    "    print(item)"
   ]
  },
  {
   "cell_type": "code",
   "execution_count": null,
   "metadata": {},
   "outputs": [],
   "source": [
    "wallpaper = []\n",
    "for item in yellow_wallpaper.sentences:\n",
    "    wallpaper.append(item.sentiment.polarity)\n",
    "    print(wallpaper)"
   ]
  },
  {
   "cell_type": "code",
   "execution_count": null,
   "metadata": {},
   "outputs": [],
   "source": [
    "%matplotlib inline\n",
    "import pandas as pd\n",
    "import numpy as np\n",
    "import matplotlib.pyplot as plt\n",
    "pd.set_option('max_rows', 25)\n",
    "plt.style.use('ggplot')\n",
    "plt.rcParams[\"figure.figsize\"] = (10, 4)"
   ]
  },
  {
   "cell_type": "code",
   "execution_count": null,
   "metadata": {},
   "outputs": [],
   "source": [
    "yellow = pd.Series(wallpaper)"
   ]
  },
  {
   "cell_type": "code",
   "execution_count": null,
   "metadata": {},
   "outputs": [],
   "source": [
    "yellow.plot()"
   ]
  },
  {
   "cell_type": "code",
   "execution_count": null,
   "metadata": {},
   "outputs": [],
   "source": [
    "yellow.plot(kind=\"hist\")"
   ]
  },
  {
   "cell_type": "code",
   "execution_count": null,
   "metadata": {},
   "outputs": [],
   "source": [
    "rose_sentiment = TextBlob(open(\"sea_rose.txt\").read())\n",
    "for item in rose_sentiment.sentences:\n",
    "    if item.sentiment.polarity < 0:\n",
    "        print(item)"
   ]
  },
  {
   "cell_type": "code",
   "execution_count": null,
   "metadata": {},
   "outputs": [],
   "source": [
    "def ratio(sequence):\n",
    "    total = 0\n",
    "    for item in sequence.sentences:\n",
    "        if item.sentiment.polarity < .1:\n",
    "            total = total +1\n",
    "    ratio = (float(total) / (len)(sequence.sentences)) * 100\n",
    "    print(ratio)"
   ]
  },
  {
   "cell_type": "code",
   "execution_count": null,
   "metadata": {},
   "outputs": [],
   "source": [
    "ratio(rose_sentiment)"
   ]
  },
  {
   "cell_type": "code",
   "execution_count": null,
   "metadata": {},
   "outputs": [],
   "source": [
    "bronte_sentiment = TextBlob(open(\"wuthering_heights.txt\").read())\n",
    "for item in bronte_sentiment.sentences:\n",
    "    if item.sentiment.polarity == -1:\n",
    "        print(item)"
   ]
  },
  {
   "cell_type": "code",
   "execution_count": null,
   "metadata": {},
   "outputs": [],
   "source": [
    "def ratio(sequence):\n",
    "    total = 0\n",
    "    for item in sequence.sentences:\n",
    "        if item.sentiment.polarity > 0:\n",
    "            total = total +1\n",
    "    ratio = (float(total) / (len)(sequence.sentences)) * 100\n",
    "    print(ratio)"
   ]
  },
  {
   "cell_type": "code",
   "execution_count": null,
   "metadata": {},
   "outputs": [],
   "source": [
    "ratio(bronte_sentiment)"
   ]
  },
  {
   "cell_type": "code",
   "execution_count": null,
   "metadata": {},
   "outputs": [],
   "source": []
  },
  {
   "cell_type": "markdown",
   "metadata": {},
   "source": [
    "To work with a more sophisticated sentiment analyzer in TextBlob, try the following code, and then experiment with your own sentences."
   ]
  },
  {
   "cell_type": "code",
   "execution_count": null,
   "metadata": {},
   "outputs": [],
   "source": [
    "from textblob import TextBlob\n",
    "from textblob.sentiments import NaiveBayesAnalyzer\n",
    "blob = TextBlob(\"I love this library.\", analyzer=NaiveBayesAnalyzer())\n",
    "blob.sentiment"
   ]
  },
  {
   "cell_type": "code",
   "execution_count": null,
   "metadata": {},
   "outputs": [],
   "source": []
  },
  {
   "cell_type": "markdown",
   "metadata": {},
   "source": [
    "Note: the code below will only work if you've installed the Python NLTK library."
   ]
  },
  {
   "cell_type": "code",
   "execution_count": null,
   "metadata": {},
   "outputs": [],
   "source": [
    "from nltk.sentiment.vader import SentimentIntensityAnalyzer as SIA"
   ]
  },
  {
   "cell_type": "code",
   "execution_count": null,
   "metadata": {},
   "outputs": [],
   "source": [
    "sentences=[\"raindrops on roses and whiskers on kittens: these are a few of my favorite things\",\"A pox on the pandemic!\"]\n",
    "sid = SIA()\n",
    "for sentence in sentences:\n",
    "    ss = sid.polarity_scores(sentence)\n",
    "    print(ss)"
   ]
  },
  {
   "cell_type": "code",
   "execution_count": null,
   "metadata": {},
   "outputs": [],
   "source": [
    "sentences=[\"The Biltong was dying. Huge and old, it squatted in the center of the settlement park, a lump of ancient yellow protoplasm, thick, gummy, opaque. Its pseudopodia were dried up, shriveled to blackened snakes that lay inert on the brown grass.\"]\n",
    "sid = SIA()\n",
    "for sentence in sentences:\n",
    "    ss = sid.polarity_scores(sentence)\n",
    "    print(ss)"
   ]
  },
  {
   "cell_type": "markdown",
   "metadata": {},
   "source": [
    "If you want to pull back the curtain to better understand how TextBlob calculates sentiment, here's a great rundown: https://planspace.org/20150607-textblob_sentiment/\n",
    "\n",
    "\n",
    "If you'd like to learn more about the alternative Naive Bayes classification method, here's a good overview: https://towardsdatascience.com/naive-bayes-classifier-81d512f50a7c"
   ]
  }
 ],
 "metadata": {
  "kernelspec": {
   "display_name": "Python 3",
   "language": "python",
   "name": "python3"
  },
  "language_info": {
   "codemirror_mode": {
    "name": "ipython",
    "version": 3
   },
   "file_extension": ".py",
   "mimetype": "text/x-python",
   "name": "python",
   "nbconvert_exporter": "python",
   "pygments_lexer": "ipython3",
   "version": "3.7.6"
  }
 },
 "nbformat": 4,
 "nbformat_minor": 2
}
