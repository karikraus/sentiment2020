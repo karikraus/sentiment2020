{
 "cells": [
  {
   "cell_type": "markdown",
   "metadata": {},
   "source": [
    "Getting started with TextBlob for Sentiment Analysis\n",
    "\n",
    "The first thing you'll need to do is install TextBlob. This could end up being nearly effortless, taking you all of two minutes, or a deep descent into the abyss. Fortunately you can use one of my interactive Jupyter notebooks online if you encounter technical problems. Ideally, however, you want your own installation on your own machine. Here are instructions:\n",
    "\n",
    "--For both Mac and Windows operating systems, you'll want to open a console or terminal window. The relevant application on Mac machines is \"Terminal.\"\n",
    "--Point your browser to the TextBlob documentation page and follow the instructions for your operating system:\n",
    "https://textblob.readthedocs.io/en/dev/install.html\n",
    "--Note that when typing in the relevant commands, you should omit the \"$\" sign\n",
    "\n",
    "If you'd like to experiment with installing TextBlob directly from a Jupyter notebook instead of a terminal or console window, follow the instructions here: https://jakevdp.github.io/blog/2017/12/05/installing-python-packages-from-jupyter/\n",
    "\n",
    "Optional: Download (or upload) a copy of Emily Bronte's Wuthering Heights to the proper directory on your computer following the same procedure you used for the Sea Rose poem a week or two ago. To obtain a copy of the novel, point your browser to Project Gutenberg and select the \"plain text UTF 8\" format: https://www.gutenberg.org/ebooks/768\n",
    "To refresh your memory about how to save the novel in your text editor and upload it to Jupyter Notebook, head over to the Google Doc I created with instructions: https://docs.google.com/document/d/1qwXYbobcfj4-uHCsbTaFq88-h4U6xGhRT16y-C-U7MM/edit?usp=sharing \n",
    "\n",
    "Once you've installed the TextBlob packages and downloaded (or uploaded) Emily Bronte's Wuthering Heights to the proper directory, you're ready to open a new Jupyter notebook and start playing. The rest of the code in this notebook should now work.If you're working directly from my online interactive notebook, you don't need to worry about any of the installations (either TextBlob or Wuthering Heights). You can just start executing and typing code. If you get an automated message or prompt from the system to type in one or two additional lines of code for TextBlob to work in my online notebook, simply enter the relevant commands. "
   ]
  },
  {
   "cell_type": "markdown",
   "metadata": {},
   "source": [
    "FYI: omit the first three lines of code in the cell immediately beneath this one if you are working with your own installation of TextBlob in your own Jupyter notebook. Instead, start with the cell that begins \"from textblob . . .\" If, however, you're using my online interactive notebook to execute code, include the code in the first cell below). "
   ]
  },
  {
   "cell_type": "code",
   "execution_count": null,
   "metadata": {},
   "outputs": [],
   "source": [
    "import nltk\n",
    "nltk.download('punkt')\n",
    "nltk.download('movie_reviews')"
   ]
  },
  {
   "cell_type": "code",
   "execution_count": null,
   "metadata": {},
   "outputs": [],
   "source": [
    "from textblob import TextBlob"
   ]
  },
  {
   "cell_type": "code",
   "execution_count": null,
   "metadata": {},
   "outputs": [],
   "source": [
    "TextBlob('A house of deadly chambers').sentiment"
   ]
  },
  {
   "cell_type": "code",
   "execution_count": null,
   "metadata": {},
   "outputs": [],
   "source": [
    "TextBlob('inhabited by evil spirits').sentiment"
   ]
  },
  {
   "cell_type": "code",
   "execution_count": null,
   "metadata": {},
   "outputs": [],
   "source": [
    "TextBlob('lit by gruesome torches').sentiment"
   ]
  },
  {
   "cell_type": "code",
   "execution_count": null,
   "metadata": {},
   "outputs": [],
   "source": [
    "TextBlob('This movie was a great experience, and not disappointing.').sentiment"
   ]
  },
  {
   "cell_type": "code",
   "execution_count": null,
   "metadata": {},
   "outputs": [],
   "source": [
    "TextBlob('The Biltong was dying. Huge and old, it squatted in the center of the settlement park, a lump of ancient yellow protoplasm, thick, gummy, opaque. Its pseudopodia were dried up, shriveled to blackened snakes that lay inert on the brown grass.').sentiment"
   ]
  },
  {
   "cell_type": "code",
   "execution_count": null,
   "metadata": {},
   "outputs": [],
   "source": [
    "TextBlob(\"A pox on the pandemic.\").sentiment"
   ]
  },
  {
   "cell_type": "code",
   "execution_count": null,
   "metadata": {},
   "outputs": [],
   "source": [
    "TextBlob(\"Raindrops on roses and whiskers on kittens: these are a few of my favorite things.\").sentiment"
   ]
  },
  {
   "cell_type": "markdown",
   "metadata": {},
   "source": [
    "The TextBlob documentation provides the following information about the sentiment scoring: \"The polarity score is a float within the range [-1.0, 1.0]. The subjectivity is a float within the range [0.0, 1.0] where 0.0 is very objective and 1.0 is very subjective.\" In terms of the polarity value that TextBlob returns for a given sentence, -1 is the most negative score and 1 is the most positive. Between them is a spectrum of possibilities, e.g., -.7 or .4 or 0 and so forth). \n",
    "\n",
    "It can be surprisingly hard to compose sentences that garner an extremely negative or extremely positive score. Try writing the happiest, sunniest, bubbliest, most cheerful and exuberant sentence you can to test. Then try writing the saddest, most heartbreaking, miserable, and wretched sentence you can (rant against COVID-19 if that helps; or if reality is too painful to address right now, transcribe a sentence from a favorite tearjerker of a novel or poem). Finally, try a Goldlilocks sentence that is right in the middle. See if through this method you can begin to get a feel for what the range of polarity scores mean. Do a similar exercise for testing subjectivity. You might try writing sentences with unicorns and mythological creatures versus empirical fact-based sentences. Again, the goal is to begin to internalize what the different percentages mean."
   ]
  },
  {
   "cell_type": "code",
   "execution_count": null,
   "metadata": {},
   "outputs": [],
   "source": [
    "yellow_wallpaper = TextBlob(open(\"yellow_wallpaper.txt\").read())"
   ]
  },
  {
   "cell_type": "code",
   "execution_count": null,
   "metadata": {},
   "outputs": [],
   "source": [
    "for item in yellow_wallpaper.sentences:\n",
    "    if item.sentiment.polarity == -1:\n",
    "        print(item)"
   ]
  },
  {
   "cell_type": "code",
   "execution_count": null,
   "metadata": {},
   "outputs": [],
   "source": [
    "for item in yellow_wallpaper.sentences:\n",
    "    if item.sentiment.polarity == 1:\n",
    "        print(item)"
   ]
  },
  {
   "cell_type": "code",
   "execution_count": null,
   "metadata": {},
   "outputs": [],
   "source": [
    "for item in yellow_wallpaper.sentences:\n",
    "    print(item.sentiment.polarity)\n",
    "    print(item)"
   ]
  },
  {
   "cell_type": "code",
   "execution_count": null,
   "metadata": {},
   "outputs": [],
   "source": [
    "wallpaper = []\n",
    "for item in yellow_wallpaper.sentences:\n",
    "    wallpaper.append(item.sentiment.polarity)\n",
    "    print(wallpaper)"
   ]
  },
  {
   "cell_type": "code",
   "execution_count": null,
   "metadata": {},
   "outputs": [],
   "source": [
    "yellow = pd.Series(wallpaper)"
   ]
  },
  {
   "cell_type": "code",
   "execution_count": null,
   "metadata": {},
   "outputs": [],
   "source": [
    "%matplotlib inline\n",
    "import pandas as pd\n",
    "import numpy as np\n",
    "import matplotlib.pyplot as plt\n",
    "pd.set_option('max_rows', 25)\n",
    "plt.style.use('ggplot')\n",
    "plt.rcParams[\"figure.figsize\"] = (10, 4)"
   ]
  },
  {
   "cell_type": "code",
   "execution_count": null,
   "metadata": {},
   "outputs": [],
   "source": [
    "yellow.plot()"
   ]
  },
  {
   "cell_type": "code",
   "execution_count": null,
   "metadata": {},
   "outputs": [],
   "source": [
    "yellow.plot(kind=\"hist\")"
   ]
  },
  {
   "cell_type": "code",
   "execution_count": null,
   "metadata": {},
   "outputs": [],
   "source": [
    "rose_sentiment = TextBlob(open(\"sea_rose.txt\").read())\n",
    "for item in rose_sentiment.sentences:\n",
    "    if item.sentiment.polarity < 0:\n",
    "        print(item)"
   ]
  },
  {
   "cell_type": "code",
   "execution_count": null,
   "metadata": {},
   "outputs": [],
   "source": [
    "def ratio(sequence):\n",
    "    total = 0\n",
    "    for item in sequence.sentences:\n",
    "        if item.sentiment.polarity < .1:\n",
    "            total = total +1\n",
    "    ratio = (float(total) / (len)(sequence.sentences)) * 100\n",
    "    print(ratio)"
   ]
  },
  {
   "cell_type": "code",
   "execution_count": null,
   "metadata": {},
   "outputs": [],
   "source": [
    "ratio(rose_sentiment)"
   ]
  },
  {
   "cell_type": "code",
   "execution_count": null,
   "metadata": {},
   "outputs": [],
   "source": [
    "bronte_sentiment = TextBlob(open(\"wuthering_heights.txt\").read())\n",
    "for item in bronte_sentiment.sentences:\n",
    "    if item.sentiment.polarity == -1:\n",
    "        print(item)"
   ]
  },
  {
   "cell_type": "code",
   "execution_count": null,
   "metadata": {},
   "outputs": [],
   "source": [
    "def ratio(sequence):\n",
    "    total = 0\n",
    "    for item in sequence.sentences:\n",
    "        if item.sentiment.polarity > 0:\n",
    "            total = total +1\n",
    "    ratio = (float(total) / (len)(sequence.sentences)) * 100\n",
    "    print(ratio)"
   ]
  },
  {
   "cell_type": "code",
   "execution_count": null,
   "metadata": {},
   "outputs": [],
   "source": [
    "ratio(bronte_sentiment)"
   ]
  },
  {
   "cell_type": "code",
   "execution_count": null,
   "metadata": {},
   "outputs": [],
   "source": []
  },
  {
   "cell_type": "markdown",
   "metadata": {},
   "source": [
    "To work with a more sophisticated sentiment analyzer in TextBlob, try the following code, and then experiment with your own sentences."
   ]
  },
  {
   "cell_type": "code",
   "execution_count": null,
   "metadata": {},
   "outputs": [],
   "source": [
    "from textblob import TextBlob\n",
    "from textblob.sentiments import NaiveBayesAnalyzer\n",
    "blob = TextBlob(\"I love this library.\", analyzer=NaiveBayesAnalyzer())\n",
    "blob.sentiment"
   ]
  },
  {
   "cell_type": "code",
   "execution_count": null,
   "metadata": {},
   "outputs": [],
   "source": []
  },
  {
   "cell_type": "markdown",
   "metadata": {},
   "source": [
    "Note: the code below will only work if you've installed the Python NLTK library."
   ]
  },
  {
   "cell_type": "code",
   "execution_count": null,
   "metadata": {},
   "outputs": [],
   "source": [
    "from nltk.sentiment.vader import SentimentIntensityAnalyzer as SIA"
   ]
  },
  {
   "cell_type": "code",
   "execution_count": null,
   "metadata": {},
   "outputs": [],
   "source": [
    "sentences=[\"raindrops on roses and whiskers on kittens: these are a few of my favorite things\",\"A pox on the pandemic!\"]\n",
    "sid = SIA()\n",
    "for sentence in sentences:\n",
    "    ss = sid.polarity_scores(sentence)\n",
    "    print(ss)"
   ]
  },
  {
   "cell_type": "code",
   "execution_count": null,
   "metadata": {},
   "outputs": [],
   "source": [
    "sentences=[\"The Biltong was dying. Huge and old, it squatted in the center of the settlement park, a lump of ancient yellow protoplasm, thick, gummy, opaque. Its pseudopodia were dried up, shriveled to blackened snakes that lay inert on the brown grass.\"]\n",
    "sid = SIA()\n",
    "for sentence in sentences:\n",
    "    ss = sid.polarity_scores(sentence)\n",
    "    print(ss)"
   ]
  },
  {
   "cell_type": "markdown",
   "metadata": {},
   "source": [
    "If you want to pull back the curtain to better understand how TextBlob calculates sentiment, here's a great rundown: https://planspace.org/20150607-textblob_sentiment/\n",
    "\n",
    "\n",
    "If you'd like to learn more about the alternative Naive Bayes classification method, here's a good overview: https://towardsdatascience.com/naive-bayes-classifier-81d512f50a7c"
   ]
  }
 ],
 "metadata": {
  "kernelspec": {
   "display_name": "Python 3",
   "language": "python",
   "name": "python3"
  },
  "language_info": {
   "codemirror_mode": {
    "name": "ipython",
    "version": 3
   },
   "file_extension": ".py",
   "mimetype": "text/x-python",
   "name": "python",
   "nbconvert_exporter": "python",
   "pygments_lexer": "ipython3",
   "version": "3.7.6"
  }
 },
 "nbformat": 4,
 "nbformat_minor": 2
}
